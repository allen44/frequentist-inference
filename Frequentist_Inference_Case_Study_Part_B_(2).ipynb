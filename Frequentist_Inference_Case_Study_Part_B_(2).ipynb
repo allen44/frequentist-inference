{
  "nbformat": 4,
  "nbformat_minor": 0,
  "metadata": {
    "kernelspec": {
      "display_name": "Python 3",
      "language": "python",
      "name": "python3"
    },
    "language_info": {
      "codemirror_mode": {
        "name": "ipython",
        "version": 3
      },
      "file_extension": ".py",
      "mimetype": "text/x-python",
      "name": "python",
      "nbconvert_exporter": "python",
      "pygments_lexer": "ipython3",
      "version": "3.8.6"
    },
    "colab": {
      "name": "Frequentist Inference Case Study - Part B (2).ipynb",
      "provenance": [],
      "collapsed_sections": [],
      "include_colab_link": true
    }
  },
  "cells": [
    {
      "cell_type": "markdown",
      "metadata": {
        "id": "view-in-github",
        "colab_type": "text"
      },
      "source": [
        "<a href=\"https://colab.research.google.com/github/allen44/frequentist-inference/blob/main/Frequentist_Inference_Case_Study_Part_B_(2).ipynb\" target=\"_parent\"><img src=\"https://colab.research.google.com/assets/colab-badge.svg\" alt=\"Open In Colab\"/></a>"
      ]
    },
    {
      "cell_type": "markdown",
      "metadata": {
        "id": "Yw1S-yDYhwH3"
      },
      "source": [
        "# Frequentist Inference Case Study - Part B"
      ]
    },
    {
      "cell_type": "markdown",
      "metadata": {
        "id": "lWGuohpIhwIC"
      },
      "source": [
        "## Learning objectives"
      ]
    },
    {
      "cell_type": "markdown",
      "metadata": {
        "id": "JHRiLnQ5hwID"
      },
      "source": [
        "Welcome to Part B of the Frequentist inference case study! The purpose of this case study is to help you apply the concepts associated with Frequentist inference in Python. In particular, you'll practice writing Python code to apply the following statistical concepts: \n",
        "* the _z_-statistic\n",
        "* the _t_-statistic\n",
        "* the difference and relationship between the two\n",
        "* the Central Limit Theorem, including its assumptions and consequences\n",
        "* how to estimate the population mean and standard deviation from a sample\n",
        "* the concept of a sampling distribution of a test statistic, particularly for the mean\n",
        "* how to combine these concepts to calculate a confidence interval"
      ]
    },
    {
      "cell_type": "markdown",
      "metadata": {
        "id": "Oc0E5seShwIE"
      },
      "source": [
        "In the previous notebook, we used only data from a known normal distribution. **You'll now tackle real data, rather than simulated data, and answer some relevant real-world business problems using the data.**"
      ]
    },
    {
      "cell_type": "markdown",
      "metadata": {
        "id": "izZTOrlchwIE"
      },
      "source": [
        "## Hospital medical charges"
      ]
    },
    {
      "cell_type": "markdown",
      "metadata": {
        "id": "uE1fxbc8hwIE"
      },
      "source": [
        "Imagine that a hospital has hired you as their data scientist. An administrator is working on the hospital's business operations plan and needs you to help them answer some business questions. \n",
        "\n",
        "In this assignment notebook, you're going to use frequentist statistical inference on a data sample to answer the questions:\n",
        "* has the hospital's revenue stream fallen below a key threshold?\n",
        "* are patients with insurance really charged different amounts than those without?\n",
        "\n",
        "Answering that last question with a frequentist approach makes some assumptions, and requires some knowledge, about the two groups."
      ]
    },
    {
      "cell_type": "markdown",
      "metadata": {
        "id": "DLcLAZ6ChwIF"
      },
      "source": [
        "We are going to use some data on medical charges obtained from [Kaggle](https://www.kaggle.com/easonlai/sample-insurance-claim-prediction-dataset). \n",
        "\n",
        "For the purposes of this exercise, assume the observations are the result of random sampling from our single hospital. Recall that in the previous assignment, we introduced the Central Limit Theorem (CLT), and its consequence that the distributions of sample statistics approach a normal distribution as $n$ increases. The amazing thing about this is that it applies to the sampling distributions of statistics that have been calculated from even highly non-normal distributions of data! Recall, also, that hypothesis testing is very much based on making inferences about such sample statistics. You're going to rely heavily on the CLT to apply frequentist (parametric) tests to answer the questions in this notebook."
      ]
    },
    {
      "cell_type": "code",
      "metadata": {
        "id": "y07PuvlWhwIF"
      },
      "source": [
        "import pandas as pd\n",
        "import numpy as np\n",
        "import matplotlib.pyplot as plt\n",
        "import seaborn as sns\n",
        "from scipy.stats import t\n",
        "from numpy.random import seed\n",
        "medical = pd.read_csv('https://raw.githubusercontent.com/allen44/frequentist-inference/main/data/insurance2.csv')"
      ],
      "execution_count": 4,
      "outputs": []
    },
    {
      "cell_type": "code",
      "metadata": {
        "id": "zhff7is1hwIG",
        "colab": {
          "base_uri": "https://localhost:8080/"
        },
        "outputId": "f9c2035c-9123-494a-ea18-1c8918263c64"
      },
      "source": [
        "medical.shape"
      ],
      "execution_count": 5,
      "outputs": [
        {
          "output_type": "execute_result",
          "data": {
            "text/plain": [
              "(1338, 8)"
            ]
          },
          "metadata": {
            "tags": []
          },
          "execution_count": 5
        }
      ]
    },
    {
      "cell_type": "code",
      "metadata": {
        "id": "SwV1GuirhwIH",
        "colab": {
          "base_uri": "https://localhost:8080/",
          "height": 204
        },
        "outputId": "5cc8ee78-c226-4545-8ac8-d19fb83e1bfd"
      },
      "source": [
        "medical.head()"
      ],
      "execution_count": 6,
      "outputs": [
        {
          "output_type": "execute_result",
          "data": {
            "text/html": [
              "<div>\n",
              "<style scoped>\n",
              "    .dataframe tbody tr th:only-of-type {\n",
              "        vertical-align: middle;\n",
              "    }\n",
              "\n",
              "    .dataframe tbody tr th {\n",
              "        vertical-align: top;\n",
              "    }\n",
              "\n",
              "    .dataframe thead th {\n",
              "        text-align: right;\n",
              "    }\n",
              "</style>\n",
              "<table border=\"1\" class=\"dataframe\">\n",
              "  <thead>\n",
              "    <tr style=\"text-align: right;\">\n",
              "      <th></th>\n",
              "      <th>age</th>\n",
              "      <th>sex</th>\n",
              "      <th>bmi</th>\n",
              "      <th>children</th>\n",
              "      <th>smoker</th>\n",
              "      <th>region</th>\n",
              "      <th>charges</th>\n",
              "      <th>insuranceclaim</th>\n",
              "    </tr>\n",
              "  </thead>\n",
              "  <tbody>\n",
              "    <tr>\n",
              "      <th>0</th>\n",
              "      <td>19</td>\n",
              "      <td>0</td>\n",
              "      <td>27.900</td>\n",
              "      <td>0</td>\n",
              "      <td>1</td>\n",
              "      <td>3</td>\n",
              "      <td>16884.92400</td>\n",
              "      <td>1</td>\n",
              "    </tr>\n",
              "    <tr>\n",
              "      <th>1</th>\n",
              "      <td>18</td>\n",
              "      <td>1</td>\n",
              "      <td>33.770</td>\n",
              "      <td>1</td>\n",
              "      <td>0</td>\n",
              "      <td>2</td>\n",
              "      <td>1725.55230</td>\n",
              "      <td>1</td>\n",
              "    </tr>\n",
              "    <tr>\n",
              "      <th>2</th>\n",
              "      <td>28</td>\n",
              "      <td>1</td>\n",
              "      <td>33.000</td>\n",
              "      <td>3</td>\n",
              "      <td>0</td>\n",
              "      <td>2</td>\n",
              "      <td>4449.46200</td>\n",
              "      <td>0</td>\n",
              "    </tr>\n",
              "    <tr>\n",
              "      <th>3</th>\n",
              "      <td>33</td>\n",
              "      <td>1</td>\n",
              "      <td>22.705</td>\n",
              "      <td>0</td>\n",
              "      <td>0</td>\n",
              "      <td>1</td>\n",
              "      <td>21984.47061</td>\n",
              "      <td>0</td>\n",
              "    </tr>\n",
              "    <tr>\n",
              "      <th>4</th>\n",
              "      <td>32</td>\n",
              "      <td>1</td>\n",
              "      <td>28.880</td>\n",
              "      <td>0</td>\n",
              "      <td>0</td>\n",
              "      <td>1</td>\n",
              "      <td>3866.85520</td>\n",
              "      <td>1</td>\n",
              "    </tr>\n",
              "  </tbody>\n",
              "</table>\n",
              "</div>"
            ],
            "text/plain": [
              "   age  sex     bmi  children  smoker  region      charges  insuranceclaim\n",
              "0   19    0  27.900         0       1       3  16884.92400               1\n",
              "1   18    1  33.770         1       0       2   1725.55230               1\n",
              "2   28    1  33.000         3       0       2   4449.46200               0\n",
              "3   33    1  22.705         0       0       1  21984.47061               0\n",
              "4   32    1  28.880         0       0       1   3866.85520               1"
            ]
          },
          "metadata": {
            "tags": []
          },
          "execution_count": 6
        }
      ]
    },
    {
      "cell_type": "markdown",
      "metadata": {
        "id": "sYqdqgrPhwII"
      },
      "source": [
        "__Q1:__ Plot the histogram of charges and calculate the mean and standard deviation. Comment on the appropriateness of these statistics for the data."
      ]
    },
    {
      "cell_type": "markdown",
      "metadata": {
        "id": "uHOl8KnnhwII"
      },
      "source": [
        "__A:__"
      ]
    },
    {
      "cell_type": "code",
      "metadata": {
        "id": "pYUnRsashwII",
        "colab": {
          "base_uri": "https://localhost:8080/",
          "height": 285
        },
        "outputId": "bcdbd72f-9703-4249-bead-ce88f74a57e5"
      },
      "source": [
        "sns.set()\n",
        "\n",
        "charges_mean = medical['charges'].mean()\n",
        "charges_std = medical['charges'].std()\n",
        "\n",
        "\n",
        "fig, ax = plt.subplots(1, 1)\n",
        "\n",
        "def plot_sample_hist(mean, std, axes=False, density=False):\n",
        "    if axes == False:\n",
        "        fig, ax = plt.subplots(1, 1)\n",
        "    \n",
        "    _ = medical['charges'].hist(bins=int(np.sqrt(len(medical))), density=density)\n",
        "    \n",
        "    _ = plt.xlabel('charges')\n",
        "    if density==True:\n",
        "        plt.ylabel('relative frequncy')\n",
        "    else:\n",
        "        _ = plt.ylabel('frequency')\n",
        "\n",
        "    _ = plt.axvline(charges_mean, label=f'Mean: {charges_mean:0.1f}', color='g')\n",
        "    _ = plt.axvline(charges_mean - charges_std, label=f'Standard Deviation: {charges_std:0.1f}', color='g', linestyle='--')\n",
        "    _ = plt.axvline(charges_mean + charges_std, color='g', linestyle='--')\n",
        "\n",
        "    _ = plt.legend()\n",
        "    return None\n",
        "\n",
        "plot_sample_hist(charges_mean, charges_std, ax)"
      ],
      "execution_count": 7,
      "outputs": [
        {
          "output_type": "display_data",
          "data": {
            "image/png": "[encoded data removed]",
            "text/plain": [
              "<Figure size 432x288 with 1 Axes>"
            ]
          },
          "metadata": {
            "tags": []
          }
        }
      ]
    },
    {
      "cell_type": "markdown",
      "metadata": {
        "id": "bXqFhai3hwIJ"
      },
      "source": [
        "The distribution is clearly non-normal and non-symettrical (right-skewed). The mean does not do a good job of measuring centrality. The standard deviation overestimates the variation of charges less than the mean, and underestimates variation of charges greater than the mean. "
      ]
    },
    {
      "cell_type": "markdown",
      "metadata": {
        "id": "Ln6L2Q72hwIJ"
      },
      "source": [
        "__Q2:__ The administrator is concerned that the actual average charge has fallen below 12,000, threatening the hospital's operational model. On the assumption that these data represent a random sample of charges, how would you justify that these data allow you to answer that question? And what would be the most appropriate frequentist test, of the ones discussed so far, to apply?"
      ]
    },
    {
      "cell_type": "markdown",
      "metadata": {
        "id": "b6qflHMahwIJ"
      },
      "source": [
        "__A:__ This data should be sufficient to answer the question as the randomly sampled data is likely to be representative of the entire population and the sample size is large enough to make reasonable statistical tests.\n",
        "\n",
        "The most appropriate statistical test is a t-test, because we don't have prior knowledge on the standard deviation of the population--though we can estimate that with the sample's standard devivation."
      ]
    },
    {
      "cell_type": "markdown",
      "metadata": {
        "id": "8o3EPo1ohwIK"
      },
      "source": [
        "__Q3:__ Given the nature of the administrator's concern, what is the appropriate confidence interval in this case? A ***one-sided*** or ***two-sided*** interval? (Refresh your understanding of this concept on p. 399 of the *AoS*). Calculate the critical value and the relevant 95% confidence interval for the mean, and comment on whether the administrator should be concerned."
      ]
    },
    {
      "cell_type": "markdown",
      "metadata": {
        "id": "uIBWBDGQhwIK"
      },
      "source": [
        "__A:__ The appropriate test is a one-sided t-test, as the hosipital administrator is only concerned with one of the distributions extreme--the extreme that contains the interval less than 12000.\n",
        "\n"
      ]
    },
    {
      "cell_type": "code",
      "metadata": {
        "id": "c5g7rw4uhwIL",
        "colab": {
          "base_uri": "https://localhost:8080/",
          "height": 296
        },
        "outputId": "4a91a1f4-b157-4df5-daa2-fcc0749e34d1"
      },
      "source": [
        "# 95% confidence interval for the mean\n",
        "\n",
        "# Define t-dist rv object\n",
        "n = len(medical)\n",
        "df = n - 1\n",
        "rv = t(df=df, loc=charges_mean, scale=charges_std)\n",
        "\n",
        "#Plot the pdf of the t_distribution\n",
        "def plot_t_pdf(t_rv_obj, axes=False):\n",
        "    if axes==False:\n",
        "        fig, axes = plt.subplots(1,1)\n",
        "        \n",
        "    x = np.linspace(t_rv_obj.ppf(0.01),\n",
        "                    t_rv_obj.ppf(0.99), 100)\n",
        "    _ = axes.plot(x, t_rv_obj.pdf(x), 'r-', lw=5, alpha=0.6, label='t pdf')\n",
        "\n",
        "fig, ax = plt.subplots(1, 1)\n",
        "\n",
        "#Plot the histrogram of the sample\n",
        "plot_sample_hist(charges_mean, charges_std, ax, density=True)\n",
        "\n",
        "\n",
        "# Plt t-dist over the histogram\n",
        "plot_t_pdf(rv, ax)\n",
        "\n"
      ],
      "execution_count": 8,
      "outputs": [
        {
          "output_type": "display_data",
          "data": {
            "image/png": "[encoded data removed]",
            "text/plain": [
              "<Figure size 432x288 with 1 Axes>"
            ]
          },
          "metadata": {
            "tags": []
          }
        }
      ]
    },
    {
      "cell_type": "code",
      "metadata": {
        "id": "1qjXjPuEhwIL",
        "colab": {
          "base_uri": "https://localhost:8080/"
        },
        "outputId": "2f8a1401-4b4a-459a-948a-c58635490d46"
      },
      "source": [
        "# Probability that the popluation mean is less than 12000: \n",
        "prob_mean_less_than_12000 = rv.cdf(12000)\n",
        "prob_mean_less_than_12000"
      ],
      "execution_count": 9,
      "outputs": [
        {
          "output_type": "execute_result",
          "data": {
            "text/plain": [
              "0.45823275778444206"
            ]
          },
          "metadata": {
            "tags": []
          },
          "execution_count": 9
        }
      ]
    },
    {
      "cell_type": "code",
      "metadata": {
        "id": "RJtN8UIMhwIL",
        "colab": {
          "base_uri": "https://localhost:8080/"
        },
        "outputId": "13eeeb64-3c74-46a3-e155-06cdb67d1fa1"
      },
      "source": [
        "print(f\"Probability that the hospital's average charge is less than 12000 is {prob_mean_less_than_12000 *100:0.3} %.\")"
      ],
      "execution_count": 10,
      "outputs": [
        {
          "output_type": "stream",
          "text": [
            "Probability that the hospital's average charge is less than 12000 is 45.8 %.\n"
          ],
          "name": "stdout"
        }
      ]
    },
    {
      "cell_type": "markdown",
      "metadata": {
        "id": "UzI0eI-mhwIM"
      },
      "source": [
        "The administrator then wants to know whether people with insurance really are charged a different amount to those without.\n",
        "\n",
        "__Q4:__ State the null and alternative hypothesis here. Use the _t_-test for the difference between means, where the pooled standard deviation of the two groups is given by:\n",
        "\\begin{equation}\n",
        "s_p = \\sqrt{\\frac{(n_0 - 1)s^2_0 + (n_1 - 1)s^2_1}{n_0 + n_1 - 2}}\n",
        "\\end{equation}\n",
        "\n",
        "and the *t*-test statistic is then given by:\n",
        "\n",
        "\\begin{equation}\n",
        "t = \\frac{\\bar{x}_0 - \\bar{x}_1}{s_p \\sqrt{1/n_0 + 1/n_1}}.\n",
        "\\end{equation}\n",
        "\n",
        "(If you need some reminding of the general definition of ***t-statistic***, check out the definition on p. 404 of *AoS*). \n",
        "\n",
        "What assumption about the variances of the two groups are we making here?"
      ]
    },
    {
      "cell_type": "markdown",
      "metadata": {
        "id": "-9rGFJwshwIM"
      },
      "source": [
        "__A:__\n",
        "\n",
        "Null hypothesis: patients with insurance and patients without insurance are both charged the same amount.\n",
        "\n",
        "Alternative hypothesis: patients with insurance and patients without insurance are charged different amounts.\n",
        "\n",
        "Assumption: the variance of the two groups are equal."
      ]
    },
    {
      "cell_type": "markdown",
      "metadata": {
        "id": "ZFw60unmhwIO"
      },
      "source": [
        "__Q5:__ Perform this hypothesis test both manually, using the above formulae, and then using the appropriate function from [scipy.stats](https://docs.scipy.org/doc/scipy/reference/stats.html#statistical-tests) (hint, you're looking for a function to perform a _t_-test on two independent samples). For the manual approach, calculate the value of the test statistic and then its probability (the p-value). Verify you get the same results from both."
      ]
    },
    {
      "cell_type": "markdown",
      "metadata": {
        "id": "yNDGl0l2hwIP"
      },
      "source": [
        "__A:__ "
      ]
    },
    {
      "cell_type": "code",
      "metadata": {
        "id": "USc7mViLhwIP"
      },
      "source": [
        "# Define sample sets\n",
        "sample_with_insurance = medical[medical['insuranceclaim'] == 0]\n",
        "sample_without_insurance = medical[medical['insuranceclaim'] == 1]"
      ],
      "execution_count": 11,
      "outputs": []
    },
    {
      "cell_type": "code",
      "metadata": {
        "id": "-f2BwOqahwIP",
        "colab": {
          "base_uri": "https://localhost:8080/"
        },
        "outputId": "769823e2-f806-4ac5-c3a8-dc25c1fed8f4"
      },
      "source": [
        "def calculate_t_stat(sample_0, sample_1):\n",
        "    # Sample sizes\n",
        "    n_0 = sample_0.count()\n",
        "    n_1 = sample_1.count()\n",
        "    # print('\\nn_0:\\n', n_0)\n",
        "    # print('\\nn_1:\\n', n_1)\n",
        "\n",
        "    # Sample standard deviations\n",
        "    s_0 = sample_0.std()\n",
        "    s_1 = sample_1.std()\n",
        "    # print('\\ns_0:\\n', s_0)\n",
        "    # print('\\ns_1:\\n', s_1)\n",
        "\n",
        "    # Pooled standard deviation\n",
        "    numerator = (n_0 - 1) * s_0**2 + (n_1 - 1) * s_1**2\n",
        "    denominator = n_0 + n_1 - 2\n",
        "    s_p = np.sqrt(numerator/denominator)\n",
        "    # print('\\nnumerator:\\n', numerator)\n",
        "    # print('\\ndenominator:\\n', denominator)\n",
        "    # print('\\ns_p:\\n', s_p)\n",
        "\n",
        "    # Sample means\n",
        "    x_0 = sample_0.mean()\n",
        "    x_1 = sample_1.mean()\n",
        "    # print('\\nx_0:\\n', x_0)\n",
        "    # print('\\nx_1:\\n', x_1)\n",
        "\n",
        "    #  test statistic (manual)\n",
        "    t = (x_0 - x_1) / (s_p * np.sqrt(1/n_0 + 1/n_1))\n",
        "    # print(t)\n",
        "    return t\n",
        "\n",
        "manual_results = calculate_t_stat(sample_without_insurance, sample_with_insurance)\n",
        "\n",
        "t_manual = manual_results['charges']\n",
        "t_manual"
      ],
      "execution_count": 18,
      "outputs": [
        {
          "output_type": "execute_result",
          "data": {
            "text/plain": [
              "11.89329903087671"
            ]
          },
          "metadata": {
            "tags": []
          },
          "execution_count": 18
        }
      ]
    },
    {
      "cell_type": "code",
      "metadata": {
        "id": "HAnL-X36mKCA",
        "colab": {
          "base_uri": "https://localhost:8080/"
        },
        "outputId": "c19a17c8-e152-4105-caf2-3059e2aec239"
      },
      "source": [
        "#probability (the p-value) from test statistic\r\n",
        "\r\n",
        "# From the t-statistic lookup table at https://www.sjsu.edu/faculty/gerstman/StatPrimer/t-table.pdf,\r\n",
        "# we see that the probability that corresponds to t-statistic of 11.89 with degrees of freedom of >1000, is p << 0.0001.\r\n",
        "\r\n",
        "p_value_manual = 0\r\n",
        "p_value_manual"
      ],
      "execution_count": 16,
      "outputs": [
        {
          "output_type": "execute_result",
          "data": {
            "text/plain": [
              "0"
            ]
          },
          "metadata": {
            "tags": []
          },
          "execution_count": 16
        }
      ]
    },
    {
      "cell_type": "code",
      "metadata": {
        "id": "_a7R5CIBhwIR",
        "colab": {
          "base_uri": "https://localhost:8080/"
        },
        "outputId": "c317774c-b711-4709-e153-84abbb05398f"
      },
      "source": [
        "# test statistic (using scipy)\r\n",
        "from scipy import stats\r\n",
        "scipy_results = stats.ttest_ind(sample_without_insurance['charges'], sample_with_insurance['charges'])\r\n",
        "t_scipy = scipy_results[0]\r\n",
        "t_scipy"
      ],
      "execution_count": 14,
      "outputs": [
        {
          "output_type": "execute_result",
          "data": {
            "text/plain": [
              "11.893299030876712"
            ]
          },
          "metadata": {
            "tags": []
          },
          "execution_count": 14
        }
      ]
    },
    {
      "cell_type": "code",
      "metadata": {
        "id": "RaphlgeIhwIS",
        "colab": {
          "base_uri": "https://localhost:8080/"
        },
        "outputId": "9318f7c6-3e95-48af-cc3c-5529f5688abb"
      },
      "source": [
        "# probability (the p-value) from test statistic\r\n",
        "p_value_scipy =  scipy_results[1]\r\n",
        "p_value_scipy\r\n"
      ],
      "execution_count": 15,
      "outputs": [
        {
          "output_type": "execute_result",
          "data": {
            "text/plain": [
              "4.461230231620717e-31"
            ]
          },
          "metadata": {
            "tags": []
          },
          "execution_count": 15
        }
      ]
    },
    {
      "cell_type": "markdown",
      "metadata": {
        "id": "UXR9gdVbhwIT"
      },
      "source": [
        "Congratulations! Hopefully you got the exact same numerical results. This shows that you correctly calculated the numbers by hand. Secondly, you used the correct function and saw that it's much easier to use. All you need to do is pass your data to it."
      ]
    },
    {
      "cell_type": "markdown",
      "metadata": {
        "id": "uQA7vhXWhwIU"
      },
      "source": [
        "__Q6:__ Conceptual question: look through the documentation for statistical test functions in scipy.stats. You'll see the above _t_-test for a sample, but can you see an equivalent one for performing a *z*-test from a sample? Comment on your answer."
      ]
    },
    {
      "cell_type": "markdown",
      "metadata": {
        "id": "fRPl46MzhwIV"
      },
      "source": [
        "__A:__ I wasn't able to find a z-test listed as a statistical test in the  scipy.stats documentation. However, I found z-score test in the scipy.mstats documentation. I assume that's the topic that was intended in the question.\r\n",
        "\r\n",
        "For sample sets that have much more than about 30 samples, (here we had more than 500 in each), the z-test will yield almost the same probability as the t-test. \r\n",
        "\r\n",
        "The t-test was more applicable in our case because it does not make the assumptions but the population that the z-test requires."
      ]
    },
    {
      "cell_type": "markdown",
      "metadata": {
        "id": "ZYCa31GChwIW"
      },
      "source": [
        "## Learning outcomes"
      ]
    },
    {
      "cell_type": "markdown",
      "metadata": {
        "id": "0FQiwo_9hwIX"
      },
      "source": [
        "Having completed this project notebook, you now have good hands-on experience:\n",
        "* using the central limit theorem to help you apply frequentist techniques to answer questions that pertain to very non-normally distributed data from the real world\n",
        "* performing inference using such data to answer business questions\n",
        "* forming a hypothesis and framing the null and alternative hypotheses\n",
        "* testing this using a _t_-test"
      ]
    }
  ]
}